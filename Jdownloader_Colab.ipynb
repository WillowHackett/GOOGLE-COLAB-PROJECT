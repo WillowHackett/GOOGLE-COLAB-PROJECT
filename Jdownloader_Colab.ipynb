{
  "nbformat": 4,
  "nbformat_minor": 0,
  "metadata": {
    "colab": {
      "name": "Jdownloader-Colab.ipynb",
      "provenance": [],
      "collapsed_sections": [
        "21-Wb8ywqQeJ",
        "ZVIyGBSmjlOY",
        "7dTNq8TFD6a-"
      ]
    },
    "kernelspec": {
      "name": "python3",
      "display_name": "Python 3"
    },
    "language_info": {
      "name": "python"
    }
  },
  "cells": [
    {
      "cell_type": "markdown",
      "metadata": {
        "id": "21-Wb8ywqQeJ"
      },
      "source": [
        "# <font size=6 color=blackblue>COLAB RESTART</font>\n",
        "---"
      ]
    },
    {
      "cell_type": "code",
      "execution_count": null,
      "metadata": {
        "cellView": "form",
        "id": "nYEj5CeCqbTY"
      },
      "outputs": [],
      "source": [
        "# ============================= FORM ============================= #\n",
        "# @markdown <font size=5>← [Start] Colab Start Alive</font>\n",
        "# @markdown Bu hücre, boşta kalma nedeniyle bağlantınız kesildiğinde otomatik olarak yeniden bağlan düğmesine basacak bir JS kodu çalıştırır.\n",
        "# ================================================================ #\n",
        "\n",
        "import IPython\n",
        "from IPython.display import clear_output\n",
        "from google.colab import output\n",
        "\n",
        "display(IPython.display.Javascript('''\n",
        " function ClickConnect(){\n",
        "   btn = document.querySelector(\"colab-connect-button\")\n",
        "   if (btn != null){\n",
        "     console.log(\"Clicked on the connect button\"); \n",
        "     btn.click() \n",
        "     }\n",
        "   \n",
        "   btn = document.getElementById('connect')\n",
        "   if (btn != null){\n",
        "     console.log(\"Clicked on the reconnect button\"); \n",
        "     btn.click() \n",
        "     }\n",
        "  }\n",
        "  \n",
        "setInterval(ClickConnect,60000)\n",
        "'''))\n",
        "\n",
        "clear_output()"
      ]
    },
    {
      "cell_type": "markdown",
      "metadata": {
        "id": "ZVIyGBSmjlOY"
      },
      "source": [
        "#<img src='https://i.ibb.co/nD9NnTc/drive.png' height=\"50\" alt=\"GDrive\"/>"
      ]
    },
    {
      "cell_type": "code",
      "execution_count": null,
      "metadata": {
        "cellView": "form",
        "id": "6DzJx4rdjvUQ"
      },
      "outputs": [],
      "source": [
        "#@markdown <h2><b>←</b>Mount your Google Drive</h2>\n",
        "from google.colab import drive\n",
        "drive.mount('/content/drive', force_remount=True)"
      ]
    },
    {
      "cell_type": "code",
      "execution_count": null,
      "metadata": {
        "cellView": "form",
        "id": "Wxj0N4LT_8q_"
      },
      "outputs": [],
      "source": [
        "#@markdown <h2><b>←</b> ឵឵Mount Another Google Drive</h2>\n",
        "#To mount another drive:\n",
        " \n",
        "!apt-get install -y -qq software-properties-common python-software-properties module-init-tools\n",
        "!add-apt-repository -y ppa:alessandro-strada/ppa 2>&1 > /dev/null\n",
        "!apt-get update -qq 2>&1 > /dev/null\n",
        "!apt-get -y install -qq google-drive-ocamlfuse fuse\n",
        "from google.colab import auth\n",
        "auth.authenticate_user()\n",
        "from oauth2client.client import GoogleCredentials\n",
        "creds = GoogleCredentials.get_application_default()\n",
        "import getpass\n",
        "!google-drive-ocamlfuse -headless -id={creds.client_id} -secret={creds.client_secret} < /dev/null 2>&1 | grep URL\n",
        "vcode = getpass.getpass()\n",
        "!echo {vcode} | google-drive-ocamlfuse -headless -id={creds.client_id} -secret={creds.client_secret}\n",
        "!sudo mkdir /content/drive1\n",
        "!google-drive-ocamlfuse /content/drive1"
      ]
    },
    {
      "cell_type": "markdown",
      "source": [
        ""
      ],
      "metadata": {
        "id": "vjwjB1xImVqP"
      }
    },
    {
      "cell_type": "markdown",
      "source": [
        "# JDownloader "
      ],
      "metadata": {
        "id": "pXxv1dlDmaOJ"
      }
    },
    {
      "cell_type": "markdown",
      "metadata": {
        "id": "7dTNq8TFD6a-"
      },
      "source": [
        "## <img src='https://biplobsd.github.io/RLabClone/img/title_jdownloader.png' height=\"45\" alt=\"JDownloader\"/>"
      ]
    },
    {
      "cell_type": "code",
      "execution_count": null,
      "metadata": {
        "cellView": "form",
        "id": "2fQoIcEOD1yu"
      },
      "outputs": [],
      "source": [
        "# ============================= FORM ============================= #\n",
        "# @markdown #### ⬅️ Execute JDownloader\n",
        "# @markdown Example : totalleecher@gmail.com\n",
        "NEW_Account = True  # @param {type:\"boolean\"}\n",
        "# ================================================================ #\n",
        "\n",
        "from os import path as _p\n",
        "\n",
        "if not _p.exists(\"/root/.ipython/rlab_utils.py\"):\n",
        "    from shlex import split as _spl\n",
        "    from subprocess import run  # nosec\n",
        "\n",
        "    shellCmd = \"wget -qq https://biplobsd.github.io/RLabClone/res/rlab_utils.py \\\n",
        "                    -O /root/.ipython/rlab_utils.py\"\n",
        "    run(_spl(shellCmd))  # nosec\n",
        "\n",
        "from rlab_utils import handleJDLogin\n",
        "\n",
        "handleJDLogin(NEW_Account)"
      ]
    },
    {
      "cell_type": "markdown",
      "source": [
        "# Telegram @kamileecher"
      ],
      "metadata": {
        "id": "WSNHe44WmrQJ"
      }
    }
  ]
}