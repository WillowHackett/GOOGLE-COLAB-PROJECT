{
  "nbformat": 4,
  "nbformat_minor": 0,
  "metadata": {
    "colab": {
      "name": "Yandex-Disk-Mount.ipynb",
      "provenance": []
    },
    "kernelspec": {
      "name": "python3",
      "display_name": "Python 3"
    },
    "language_info": {
      "name": "python"
    }
  },
  "cells": [
    {
      "cell_type": "markdown",
      "source": [
        "#Anahtarlara Git"
      ],
      "metadata": {
        "id": "xTVnRl64h5Dn"
      }
    },
    {
      "cell_type": "code",
      "execution_count": null,
      "metadata": {
        "id": "sNznp8YsgHm7"
      },
      "outputs": [],
      "source": [
        "! wget -O YANDEX-DISK-KEY.GPG http://repo.yandex.ru/yandex-disk/YANDEX-DISK-KEY.GPG"
      ]
    },
    {
      "cell_type": "markdown",
      "source": [
        "#Anahtarları Ekle"
      ],
      "metadata": {
        "id": "VQwU6g7AiDQd"
      }
    },
    {
      "cell_type": "code",
      "source": [
        "! apt-key add YANDEX-DISK-KEY.GPG"
      ],
      "metadata": {
        "id": "lyPtX2RwgQF0"
      },
      "execution_count": null,
      "outputs": []
    },
    {
      "cell_type": "code",
      "source": [
        "! echo \"deb http://repo.yandex.ru/yandex-disk/deb/ stable main\" >> /etc/apt/sources.list.d/yandex-disk.list"
      ],
      "metadata": {
        "id": "xsyNnKSjgSVo"
      },
      "execution_count": 3,
      "outputs": []
    },
    {
      "cell_type": "markdown",
      "source": [
        "#Sistemi Guncelle"
      ],
      "metadata": {
        "id": "280CSyrliQcC"
      }
    },
    {
      "cell_type": "code",
      "source": [
        "! apt-get update"
      ],
      "metadata": {
        "id": "cT8kQic7gWtN"
      },
      "execution_count": null,
      "outputs": []
    },
    {
      "cell_type": "markdown",
      "source": [
        "#YANDEX-DISK Yukle"
      ],
      "metadata": {
        "id": "8wRh59nIijGF"
      }
    },
    {
      "cell_type": "code",
      "source": [
        "! apt-get install yandex-disk"
      ],
      "metadata": {
        "id": "2vLNGlWtgl_w"
      },
      "execution_count": null,
      "outputs": []
    },
    {
      "cell_type": "markdown",
      "source": [
        "#\"yandex\" Alanı Olustur"
      ],
      "metadata": {
        "id": "lUDzdMmSisFT"
      }
    },
    {
      "cell_type": "code",
      "source": [
        "! mkdir yandex"
      ],
      "metadata": {
        "id": "GvB0Aw_QgsAe"
      },
      "execution_count": 6,
      "outputs": []
    },
    {
      "cell_type": "markdown",
      "source": [
        "#Yandex disk Hesabı Etkinleştir\n",
        "#Yandex disk Hesabına Git Ve Kodu Aktive Et\n",
        "#Yandex disk default Alan \"/content/yandex\" Olarak Girin"
      ],
      "metadata": {
        "id": "Jmn0Q2oXizXJ"
      }
    },
    {
      "cell_type": "code",
      "source": [
        "! yandex-disk setup"
      ],
      "metadata": {
        "id": "D9auGb-Eg4uv"
      },
      "execution_count": null,
      "outputs": []
    },
    {
      "cell_type": "markdown",
      "source": [
        "# Telegram @kamileecher"
      ],
      "metadata": {
        "id": "Oy-hf2tcjWOU"
      }
    }
  ]
}